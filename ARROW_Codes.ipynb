{
 "cells": [
  {
   "cell_type": "markdown",
   "id": "8d3a8c89",
   "metadata": {},
   "source": [
    "# Doppler Effect Function \n"
   ]
  },
  {
   "cell_type": "code",
   "execution_count": 7,
   "id": "643e44e0",
   "metadata": {},
   "outputs": [],
   "source": [
    "import numpy as np\n",
    "from astropy.coordinates import SkyCoord, EarthLocation, AltAz\n",
    "from astropy.time import Time"
   ]
  },
  {
   "cell_type": "code",
   "execution_count": 16,
   "id": "8858f2fd",
   "metadata": {},
   "outputs": [],
   "source": [
    "def f2v (fshift,f0 =1420.4e6):\n",
    "    from astropy import constants as const\n",
    "    from astropy import units as u\n",
    "    c= const.c\n",
    "    v = -c*fshift/(f0+fshift)\n",
    "    return v.to(u.km/u.s)"
   ]
  },
  {
   "cell_type": "code",
   "execution_count": 24,
   "id": "4a7def29",
   "metadata": {
    "scrolled": true
   },
   "outputs": [
    {
     "name": "stdout",
     "output_type": "stream",
     "text": [
      "Radial velcities are:\n",
      "168.9 km / s\n",
      "84.4 km / s\n",
      "-0.0 km / s\n",
      "-42.2 km / s\n",
      "-126.6 km / s\n"
     ]
    }
   ],
   "source": [
    "freqs = np.array([-800000, -400000, 0, 200000, 600000])\n",
    "\n",
    "vels = f2v (freqs)\n",
    "print ('Radial velcities are:')\n",
    "for vs in vels:\n",
    "    print( f\"{vs:.1f}\")"
   ]
  },
  {
   "cell_type": "markdown",
   "id": "bd839e66",
   "metadata": {},
   "source": [
    "# Beam Width/ Resolution"
   ]
  },
  {
   "cell_type": "code",
   "execution_count": 33,
   "id": "d96b1b85",
   "metadata": {},
   "outputs": [
    {
     "name": "stdout",
     "output_type": "stream",
     "text": [
      "Enter dish diameter in m:3.0\n",
      "Enter wavelength in cm:21\n",
      "Beamwidth (math conversion) is 0.0854 radians, which is, 4.9 degrees\n",
      "Beamwidth (numPy conversion) is 0.0854 radians, which is, 4.9 degrees\n"
     ]
    }
   ],
   "source": [
    "import numpy as np\n",
    "import math as mt\n",
    "\n",
    "d = float (input('Enter dish diameter in m:'))\n",
    "w = float (input('Enter wavelength in cm:'))\n",
    "bw= 1.22*(w/100)/d\n",
    "\n",
    "print(f'Beamwidth (math conversion) is {bw:.4} radians, which is, {mt.degrees(bw):.2} degrees')\n",
    "print(f'Beamwidth (numPy conversion) is {bw:.4} radians, which is, {np.degrees(bw):.2} degrees')"
   ]
  },
  {
   "cell_type": "code",
   "execution_count": null,
   "id": "e67e9bad",
   "metadata": {},
   "outputs": [],
   "source": []
  }
 ],
 "metadata": {
  "kernelspec": {
   "display_name": "Python 3",
   "language": "python",
   "name": "python3"
  },
  "language_info": {
   "codemirror_mode": {
    "name": "ipython",
    "version": 3
   },
   "file_extension": ".py",
   "mimetype": "text/x-python",
   "name": "python",
   "nbconvert_exporter": "python",
   "pygments_lexer": "ipython3",
   "version": "3.6.9"
  }
 },
 "nbformat": 4,
 "nbformat_minor": 5
}
