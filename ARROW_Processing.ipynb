{
 "cells": [
  {
   "cell_type": "code",
   "execution_count": 1,
   "metadata": {},
   "outputs": [],
   "source": [
    "import pandas as pd\n",
    "from bokeh.plotting import figure, output_notebook, show\n",
    "from bokeh.models.tools import HoverTool\n",
    "import numpy as np\n",
    "# Any others you might need"
   ]
  },
  {
   "cell_type": "code",
   "execution_count": 2,
   "metadata": {},
   "outputs": [],
   "source": [
    "def read_ARROW_data(filename):\n",
    "    \"\"\"Reads in and partially processes an  ARROW spectrum\n",
    "    \n",
    "    The spectrum file contains a number of header lines indicated by `#' or blanks. \n",
    "    This function splits these from the main data and returns both \n",
    "            \n",
    "    Parameters\n",
    "    ----------\n",
    "    filename : str\n",
    "        Name of the spectrum file\n",
    "    \n",
    "    Returns\n",
    "    -------\n",
    "    dat : class: pandas.DataFrame\n",
    "        Spectrum data\n",
    "    Header lines : list of str\n",
    "        List of header lines\n",
    "    \"\"\"\n",
    "    \n",
    "    # Read lines till first line not starting with #, or whitespace.\n",
    "    # Store these as a list\n",
    "    header_list = []\n",
    "    number_header_lines = 0\n",
    "    dat = None\n",
    "    with open(filename) as f:\n",
    "        line = f.readline()\n",
    "        while line[0] == '#' or line[0] == ',' or line[0].isspace():\n",
    "            header_list.append(line)\n",
    "            number_header_lines += 1\n",
    "            line = f.readline()\n",
    "        dat = pd.read_csv(filename, header = number_header_lines, skipinitialspace = True)\n",
    "\n",
    "    return dat, header_list"
   ]
  },
  {
   "cell_type": "code",
   "execution_count": 3,
   "metadata": {},
   "outputs": [],
   "source": [
    "# Function to convert frequency to radial velocity. Normally expect this to be placed at the\n",
    "# start of the program\n",
    "\n",
    "def freq_to_vel(freq, f0=1420.4e6):\n",
    "    ''' Takes a frequency value (or Pandas Dataframe column or Series) and returns\n",
    "    a velocity value (or new Dataframe column of values). f0 is the rest\n",
    "    frequency and defaults to 1420.4 MHz'''\n",
    "    from astropy import units as u\n",
    "    from astropy import constants as const\n",
    "    \n",
    "    # We need a value for 'c' - thespeed of light. \n",
    "    # You can either define it explicitly here or alternatively, use the \n",
    "    # Astropy constants\n",
    "    c = const.c.value\n",
    "    v = (((-c*freq)/(freq+f0))/1000)*(u.km/u.s)\n",
    "    #\n",
    "    #v = # DO YOUR CALCULATION HERE - probably use km/s for convenience \n",
    "    #\n",
    "    \n",
    "    return v  #(km/s)                          "
   ]
  },
  {
   "cell_type": "code",
   "execution_count": null,
   "metadata": {
    "scrolled": true
   },
   "outputs": [],
   "source": [
    "# Prompt the user for a file name (we'll call it file_name)\n",
    "# You should know how to do this by now\n",
    "file_name = input('Enter file name:')\n",
    "\n",
    "spectrum_df, header_lines = read_ARROW_data(file_name+'.csv')\n",
    "\n",
    "# Display the first few lines - does it look reasonable?\n",
    "spectrum_df.head(4)\n"
   ]
  },
  {
   "cell_type": "code",
   "execution_count": null,
   "metadata": {},
   "outputs": [],
   "source": [
    "# Read in the background spectra, average and subtract from the spectrum\n",
    "# Here we use  hard-wired file names but you could use a file list, or manually enter them\n",
    "number_header_lines = 12\n",
    "\n",
    "# This example assumes that you have three background scans \n",
    "# called 'bg1.csv', 'bg2.csv' and 'bg3.csv'\n",
    "# Modify these lines if your background files have different names\n",
    "# We again use skipinitialspace = True to ignore the space in the 'intensity' column name\n",
    "bg1 = pd.read_csv('NEP1.csv', header = number_header_lines, skipinitialspace = True)\n",
    "bg2 = pd.read_csv('NEP2.csv', header = number_header_lines, skipinitialspace = True)\n",
    "bg3 = pd.read_csv('NEP3.csv', header = number_header_lines, skipinitialspace = True)\n",
    "bg4 = pd.read_csv('NEP4.csv', header = number_header_lines, skipinitialspace = True)\n",
    "bg5 = pd.read_csv('NEP5.csv', header = number_header_lines, skipinitialspace = True)\n",
    "bg6 = pd.read_csv('NEP6.csv', header = number_header_lines, skipinitialspace = True)\n",
    "bg7 = pd.read_csv('NEP7.csv', header = number_header_lines, skipinitialspace = True)\n",
    "bg8 = pd.read_csv('NEP8.csv', header = number_header_lines, skipinitialspace = True)\n",
    "bg9 = pd.read_csv('NEP9.csv', header = number_header_lines, skipinitialspace = True)\n",
    "bg10 = pd.read_csv('NEP10.csv', header = number_header_lines, skipinitialspace = True)\n",
    "\n",
    "\n",
    "# Compute average intensity values\n",
    "bg_av = ((bg1['intensity']+bg2['intensity']+bg3['intensity']+bg4['intensity']+bg5['intensity']+bg6['intensity']+bg7['intensity']+bg8['intensity']+bg9['intensity']+bg10['intensity'])/10)\n",
    "print(type(bg_av))\n",
    "# Subract from spectrum intensity\n",
    "spectrum_df['intensity'] = spectrum_df['intensity']-bg_av.values\n",
    "\n",
    "spectrum_df.head(4)\n"
   ]
  },
  {
   "cell_type": "code",
   "execution_count": null,
   "metadata": {},
   "outputs": [],
   "source": [
    "# Convert frequency to radial velocity values using this function\n",
    "spectrum_v = freq_to_vel(spectrum_df['frequency'])\n",
    "\n",
    "# Add a new 'velocity' column with these values\n",
    "spectrum_df['velocity'] = spectrum_v\n",
    "\n",
    "spectrum_df"
   ]
  },
  {
   "cell_type": "code",
   "execution_count": null,
   "metadata": {},
   "outputs": [],
   "source": [
    "\n",
    "from bokeh.plotting import figure, output_notebook, show\n",
    "from bokeh.models.tools import HoverTool\n",
    "\n",
    "output_notebook() \n",
    "p = figure(title = \"Radial Velocity against Intensity\", x_axis_label = 'Radial Velocity (km/s)', y_axis_label = 'Intensity', plot_width=800, plot_height=300)\n",
    "p.line(spectrum_df['velocity'], spectrum_df['intensity'])\n",
    "p.add_tools(HoverTool(mode='vline'))\n",
    "show(p)\n",
    "\n",
    "import matplotlib.pyplot as plt\n",
    "plt.figure (figsize=(8,3))\n",
    "plt.plot (spectrum_df['velocity'], spectrum_df['intensity'])\n"
   ]
  },
  {
   "cell_type": "code",
   "execution_count": null,
   "metadata": {},
   "outputs": [],
   "source": [
    "# Prompt for a new file name\n",
    "new_file_name = input ('Enter new file name:')\n",
    "with open(new_file_name+'.csv', mode='w') as spectrum:\n",
    "    spectrum.writelines(header_lines)\n",
    "spectrum_df.to_csv(new_file_name+'.csv',index=False, mode='a')\n",
    "# First write the header lines that we read in earlier to the file.\n",
    "# Use the .writelines() function from FileIO section 2.1\n",
    "\n",
    "# Now APPEND the modified csv data using the pandas .to_csv() method \n",
    "# UsingPandas section 3 should help"
   ]
  }
 ],
 "metadata": {
  "kernelspec": {
   "display_name": "Python 3",
   "language": "python",
   "name": "python3"
  },
  "language_info": {
   "codemirror_mode": {
    "name": "ipython",
    "version": 3
   },
   "file_extension": ".py",
   "mimetype": "text/x-python",
   "name": "python",
   "nbconvert_exporter": "python",
   "pygments_lexer": "ipython3",
   "version": "3.6.9"
  }
 },
 "nbformat": 4,
 "nbformat_minor": 4
}
