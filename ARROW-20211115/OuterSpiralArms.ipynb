{
 "cells": [
  {
   "cell_type": "markdown",
   "metadata": {},
   "source": [
    "## Activity 7.2 - Mapping the outer spiral arms\n",
    "\n",
    "Version 0.2 Nov 2019\n",
    "\n",
    "This notebook will guide you through the steps required to implement the following workflow.\n",
    "1. Read in the longitude, cloud speed values that you obtained during Activities 5.3 and 6.1.\n",
    "2. Use these values to calculate the radius from Galactic centre for each cloud.\n",
    "3. Plot these data points, producing a partial map of the Galactic spiral arms.\n",
    "\n",
    "To begin, use the values you measured during Activities 5.3 and 6.1, and selected data from other students, create a comma delimited file (the examples here assume a name of`cloud_v.csv` - change this if you have named your file differently) using a simple text editor (**not** a word processor).\n",
    "\n",
    "Your final file should should look something like this.\n",
    "\n",
    "    longitude,v_obs\n",
    "    30,125\n",
    "    30,-5\n",
    "    40,75\n",
    "    40,-5\n",
    "    40,-25\n",
    "    ...\n",
    "\n",
    "> Note that the column names are `longitude` and `v_obs`.\n"
   ]
  },
  {
   "cell_type": "markdown",
   "metadata": {},
   "source": [
    "# Step 1 - Setup\n",
    "\n",
    "Import any packages/modules you'll need\n",
    "\n",
    "Define any standard values you'll be using such as:\n",
    " \n",
    "* $R_0 = 8.5$ kpc\n",
    "* $V_0 = 220$ km/s\n",
    "* $V =$ the value you measured during Activity 6.3\n",
    " \n",
    "> **HINT:** You might also like to include things like a factor that converts between kiloparsecs and metres.\n",
    "\n",
    "> **Note:** You'll need to complete the example in the next cell to make it work properly."
   ]
  },
  {
   "cell_type": "code",
   "execution_count": null,
   "metadata": {},
   "outputs": [],
   "source": [
    "import matplotlib.pyplot as plt\n",
    "import pandas as pd\n",
    "import numpy as np\n",
    "\n",
    "R0 = 8.5\n",
    "V0 = 220# Use your value here \n",
    "V = ??? # Use your value here \n",
    "KPC_M = 3.08567758e+19 # kiloparsec to metre conversion factor"
   ]
  },
  {
   "cell_type": "markdown",
   "metadata": {},
   "source": [
    "### Step 2 - Read in the data\n",
    "\n",
    "As usual, read in the data and display some or all of the rows of data if you wish.\n",
    "\n",
    "> **Note:** You'll need to complete the example in the next cell to make it work properly."
   ]
  },
  {
   "cell_type": "code",
   "execution_count": null,
   "metadata": {},
   "outputs": [],
   "source": [
    "clouds_df = pd.?????('cloud_v.csv')\n",
    "\n",
    "clouds_df.head()"
   ]
  },
  {
   "cell_type": "markdown",
   "metadata": {},
   "source": [
    "## Steps 3 and 4 - Calculate R values from vobs\n",
    "\n",
    "Now, implement the calculation part of the task by using longitude and speed values to calculate $R$ for each cloud. Store the result as a new `DataFrame` column indexed as `R`.\n",
    "\n",
    "$ R = V R_0 / [V_0 + (V_{obs}/\\sin(l))]$\n",
    "\n",
    "> **Note:** You'll need to complete the example in the next cell to make it work properly."
   ]
  },
  {
   "cell_type": "code",
   "execution_count": null,
   "metadata": {},
   "outputs": [],
   "source": [
    "R0 = R0*KPC_M\n",
    "V0 = V0*1000\n",
    "V = V*1000\n",
    "\n",
    "clouds_df['R'] = # do the calculation using vals_df['longitude']\n",
    "\n",
    "print(clouds_df)"
   ]
  },
  {
   "cell_type": "markdown",
   "metadata": {},
   "source": [
    "## Step 6 - Plot the results\n",
    "\n",
    "Now that we have computed our galactocentric radii, one option could be simply to save them to a file which would allow us to reload and plot them later if we wanted to.\n",
    "\n",
    "Here we will just demonstrate how to plot the data. You can use _Matplotlib_ or _Bokeh_. We'll opt for _Matplotlib_ and make a simple polar plot with $r$ and $\\theta$ axes (but see the warning below). The `UsingMatplotlib` notebook contains a simple example of how to generate polar plots. \n",
    "\n",
    "WARNING: It isn't quite as simple as plotting R against longitude though, as R is measured from a Galactic center and longitude from a Sun centre. You will have to do a tricky bit of trigonometry to convert R to R1 (a radial distance from the Sun) - to do this, add an R1 column to hold the results of this calculation. If you get stuck, ask your Tutor for a hint.\n",
    "\n",
    "### Step 6b - Simple _Matplotlib_ example\n",
    "\n",
    "Here's a basic example but you can make a much better-looking plot by using one or more of the following functions:\n",
    "\n",
    "* Use **`plt.rcParams('figure,figsize')`** to increase the figure size.\n",
    "* Use **`plt.scatter()`** - a second time to show Sun's position.\n",
    "* Use **`plt.xlim() and plt.yticks()`** to control how the axes are displayed.\n",
    "* Use **`plt.annotate()`** to label things like the Sun.\n"
   ]
  },
  {
   "cell_type": "code",
   "execution_count": null,
   "metadata": {},
   "outputs": [],
   "source": [
    "cloud_thetas = clouds_df['longitude']*3.142/180\n",
    "cloud_r = clouds_df['R1']  # Remember that you need to compute R1 first\n",
    "\n",
    "plt.subplot(111, projection = 'polar')\n",
    "plt.scatter(cloud_thetas, cloud_r)\n",
    "plt.title(\"Galaxy plot showing H cloud positions\", va = 'bottom')\n",
    "plt.show()"
   ]
  }
 ],
 "metadata": {
  "kernelspec": {
   "display_name": "Python 3",
   "language": "python",
   "name": "python3"
  },
  "language_info": {
   "codemirror_mode": {
    "name": "ipython",
    "version": 3
   },
   "file_extension": ".py",
   "mimetype": "text/x-python",
   "name": "python",
   "nbconvert_exporter": "python",
   "pygments_lexer": "ipython3",
   "version": "3.7.3"
  }
 },
 "nbformat": 4,
 "nbformat_minor": 4
}
