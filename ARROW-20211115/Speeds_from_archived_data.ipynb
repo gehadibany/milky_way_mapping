{
 "cells": [
  {
   "cell_type": "markdown",
   "metadata": {},
   "source": [
    "#  Activity 6.2 - Plotting and measuring speeds from archive spectra\n",
    "\n",
    "Version 0.1 Sep 2019\n",
    "\n",
    "This is similar to Activity 5.1 Displaying your own data and Activity 5.4 Measuring speeds from your own data - except that in this case the dataset contains multiple columns of spectral data from several Galactic longitudes.\n",
    "\n",
    "You therefore have to loop through the data selecting, displaying and measuring for each data column (Galactic longitude)\n",
    "\n",
    "Use _Bokeh_ to display the data as this will avoid a number of technical issues that would arise if you use _Matpltlib_. Section 5 of the UsingBokeh notebook covers everything you need to know.\n",
    "\n",
    "In essence you need to:\n",
    "\n",
    "1. Read in the provided archived data (suggest you use Pandas)\n",
    "\n",
    "2. Cycle through the Galactic longitude spectrum columns and use Bokeh to display them.\n",
    "\n",
    "3. Identify the position (and error) of V_obs_max and record these values. Don't forget to note which longitude values you are recording.\n",
    "\n",
    "These values will be used later to calculate and plot a Galactic rotation curve\n"
   ]
  },
  {
   "cell_type": "markdown",
   "metadata": {},
   "source": [
    "# Step 0 - imports\n",
    "\n",
    "Import all necessary packages. \n",
    "\n",
    "Here the necessary plotting ones are shown - add in any other required imports.\n"
   ]
  },
  {
   "cell_type": "code",
   "execution_count": null,
   "metadata": {},
   "outputs": [],
   "source": [
    "import pandas as pd\n",
    "import numpy as np\n",
    "\n",
    "from bokeh.plotting import figure, output_notebook, show\n",
    "from bokeh.models.tools import HoverTool\n",
    "\n",
    "from IPython.display import display, clear_output\n",
    "\n",
    "from IPython.core.interactiveshell import InteractiveShell\n",
    "InteractiveShell.ast_node_interactivity = \"all\"\n",
    "\n",
    "# Add any more imports here as needed\n",
    "\n",
    "output_notebook()  # Needed to get Bokeh plots in the Jupyter notebooks."
   ]
  },
  {
   "cell_type": "markdown",
   "metadata": {},
   "source": [
    "\n",
    "As usual, read in the data and display the spectra. We'll use some ARROW radio telescope spectra data, covering observations along the Galactic plane at Galactic longitudes from 0 to 90 degrees in 10 degree intervals. The first column contains the radial velocities measured at each longitude (already corrected to the LSR) and subsequent columns contain the actual data for each longitude.\n",
    "\n",
    "Note: as usual, the data file needs to be in the same directory as the notebook you are producing.\n",
    "\n",
    "Note: the form of the archived data file will most likely result in one or more rows of NaN values. You can remove these using the Pandas **`.dropna()`** method. \n"
   ]
  },
  {
   "cell_type": "code",
   "execution_count": null,
   "metadata": {},
   "outputs": [],
   "source": [
    "df = pd.read_csv('Archive_Spectra.csv', header=1, skip_blank_lines=True)\n",
    "df.head(3)\n",
    "# The blank line in the csv produces a row of NaN. Either edit the file or:\n",
    "df=df.dropna()\n",
    "df.head(3)"
   ]
  },
  {
   "cell_type": "markdown",
   "metadata": {},
   "source": [
    "\n",
    "## Loop through the spectra, collecting V_Obs_Max and error values.\n",
    "\n",
    "Now, cycle through each of the `longitude` columns and inspect the `v_obs_max values` for all of the data we have.\n",
    "\n",
    "We'll use _Bokeh_ to examine each of the spectra in turn. This allows us to zoom in on the right hand tail of each spectrum to get a value for `v_obs_max`. We will then enter and store the longitude, `v_obs_max` and an estimated error in that value. Note these values in your lab notebook for later use.\n"
   ]
  },
  {
   "cell_type": "code",
   "execution_count": null,
   "metadata": {},
   "outputs": [],
   "source": [
    "### The number of spectra is one less than the total number of columns.\n",
    "spec_no = len(df.columns)-1\n",
    "\n",
    "# Cycle through the columns starting at column 1 \n",
    "# (remember that the index starts at 0, which is the velocity column)\n",
    "for idx in range(1,11):\n",
    "    # Get the name of the column\n",
    "    colname=df.columns[idx]\n",
    "\n",
    "    p1 = figure(title = \"Spectral data from spectum column\"+colname, \n",
    "          x_axis_label='Velocity (kms^-1)', \n",
    "          y_axis_label='Intensity')\n",
    "    p1.line(df['km per sec'],df[colname])\n",
    "    p1.add_tools(HoverTool(mode='vline'))\n",
    "    show(p1)\n",
    "    # Wait whilst we do the measurements by prompting for a dummy input\n",
    "    input('Press enter to proceed')\n",
    "    # Clear the display before starting again - otherwise we get multiple plots\n",
    "    clear_output(wait=True)\n"
   ]
  },
  {
   "cell_type": "code",
   "execution_count": null,
   "metadata": {},
   "outputs": [],
   "source": [
    "print('Processing finished')"
   ]
  }
 ],
 "metadata": {
  "kernelspec": {
   "display_name": "Python 3",
   "language": "python",
   "name": "python3"
  },
  "language_info": {
   "codemirror_mode": {
    "name": "ipython",
    "version": 3
   },
   "file_extension": ".py",
   "mimetype": "text/x-python",
   "name": "python",
   "nbconvert_exporter": "python",
   "pygments_lexer": "ipython3",
   "version": "3.7.3"
  }
 },
 "nbformat": 4,
 "nbformat_minor": 2
}
