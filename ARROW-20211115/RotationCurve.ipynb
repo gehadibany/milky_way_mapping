{
 "cells": [
  {
   "cell_type": "markdown",
   "metadata": {},
   "source": [
    "# Activity 6.3 Plotting the rotation curve\n",
    "\n",
    "Version 0.1 Sep 2019\n",
    "\n",
    "Essentially this will follow the following steps\n",
    "\n",
    "1. Read in the longitude, V_obs_max, an V_error values obtained from Activity 5.2\n",
    "\n",
    "2. Use these values to calculate the radius from Galctic centre and rotational speeds for each longitude observation.\n",
    "\n",
    "3. Plot these to obtain a Rotation Curve.\n",
    "\n"
   ]
  },
  {
   "cell_type": "markdown",
   "metadata": {},
   "source": [
    "## Step 1 - Setup\n",
    "\n",
    "Set up a file, v_obs_max.csv containing the values that you obtained in activity 6.2.\n",
    "\n",
    "This file should have a first line with column headings `longitude`, `v_obs_max`, `v_error` followed by subsequent lines that contain the appropriate three numerical values each separated by a comma. Something like:\n",
    "\n",
    "longitude,v_obs_max,v_error\n",
    " 0,50,5\n",
    " 10,75,5\n",
    " ...\n",
    "\n",
    "Import any packages/modules you'll need\n",
    "\n",
    "Define any standard values you'll be using:\n",
    "\n",
    "R0 = 8.5 kpc\n",
    "\n",
    "V0 = 220 km/s\n",
    " \n"
   ]
  },
  {
   "cell_type": "markdown",
   "metadata": {},
   "source": [
    "## Step 2 - Read the data\n",
    "\n",
    "As usual, read the data into a pandas DataFrame and display it if you want.\n"
   ]
  },
  {
   "cell_type": "code",
   "execution_count": null,
   "metadata": {},
   "outputs": [],
   "source": [
    "vals_df = pd. #Complete this line\n",
    "\n",
    "vals_df.head()"
   ]
  },
  {
   "cell_type": "markdown",
   "metadata": {},
   "source": [
    "## Steps 3, 4, and 5 - calculate some R and V values\n",
    "\n",
    "Now, complete the task by taking longitude and v_obs_max values to calculate R and V.\n",
    "\n",
    "\n",
    "$ R = R_0 sin(l)$\n",
    "\n",
    "and\n",
    "\n",
    "$ V = V_{obs,max} + V_0 sin(l)$\n",
    "\n",
    "So, something like: "
   ]
  },
  {
   "cell_type": "code",
   "execution_count": null,
   "metadata": {},
   "outputs": [],
   "source": [
    "\n",
    "vals_df['R'] = do the calculation using vals_df['longitude']\n",
    "vals_df['V'] = do the calculation using vals_df['longitude']\n",
    "vals_df['V_err'] = basically the same as v_error\n"
   ]
  },
  {
   "cell_type": "markdown",
   "metadata": {},
   "source": [
    "### Step 6 - Do the plotting\n",
    "\n",
    "Now, plot these:\n",
    "\n",
    "You can use _Matplotlib_ or _Bokeh_ here.\n",
    "\n",
    "You can easily show error bars in Matplotlib using something like:\n",
    "\n",
    "`plt.errorbar(x values,y values, yerr=error values, fmt='.')`\n"
   ]
  },
  {
   "cell_type": "markdown",
   "metadata": {},
   "source": [
    "\n",
    "### Highly optional - do some research and try fitting a curve to the data\n",
    "\n",
    "To do this we will make use of the package _SciPi_ which contains some powerful functions for modelling and fitting data.\n",
    "\n",
    "Let's fit a curve of the form $$C_0 - C_1 e^{-C_2 R}$$ to the data using scipy.optimize.curve_fit(). There is a description of this function in the SciPy documentation:\n",
    "\n",
    "https://docs.scipy.org/doc/scipy/reference/generated/scipy.optimize.curve_fit.html\n",
    "\n",
    "We will learn more about fitting data using _SciPy_ in a later Skills week.\n"
   ]
  },
  {
   "cell_type": "code",
   "execution_count": null,
   "metadata": {},
   "outputs": [],
   "source": [
    "from scipy.optimize import curve_fit\n",
    "\n",
    "# Here'e a simple mathematical curve that might fit\n",
    "def gal_curve(r,C0,C1,C2):\n",
    "    return C0-C1*np.exp(-C2*r)\n",
    "\n",
    "R = vals_df['R'].values\n",
    "V = vals_df['V'].values\n",
    "R2 = np.linspace(0,8.5, 50)\n",
    "\n",
    "# Use some trial values for initial parameters for the constants\n",
    "p0 = [250,200,0.15]\n",
    "\n",
    "# and fit the curve \n",
    "c,pcov = curve_fit(gal_curve,R,V,p0)\n",
    "\n",
    "print('Optimised parameters are:', *c)\n",
    "\n",
    "# Plot it \n",
    "plt.scatter(R2,gal_curve(R2,*c))\n",
    "plt.show()\n"
   ]
  }
 ],
 "metadata": {
  "kernelspec": {
   "display_name": "Python 3",
   "language": "python",
   "name": "python3"
  },
  "language_info": {
   "codemirror_mode": {
    "name": "ipython",
    "version": 3
   },
   "file_extension": ".py",
   "mimetype": "text/x-python",
   "name": "python",
   "nbconvert_exporter": "python",
   "pygments_lexer": "ipython3",
   "version": "3.7.3"
  }
 },
 "nbformat": 4,
 "nbformat_minor": 2
}
