{
 "cells": [
  {
   "cell_type": "markdown",
   "metadata": {},
   "source": [
    "# AdvancedInput\n",
    "\n",
    "Version 0.1 Dec 2019\n",
    "\n",
    "This notebook demonstrates the use of the `iPyWidgets` system to incorporate interactive controls into your Jupyter Notebooks.\n",
    "\n",
    "The widgets available include controls such as clickable buttons, selection listboxes and numerical sliders.  These can generate input for use in a later cell, or alternatively can be used interactively within a single cell.\n",
    "\n",
    "These widgets are included in the Anaconda installation, so can be used without any additional setup. The `iPyWidgets` package just needs to be imported in the usual way.\n",
    "\n",
    "For further information, refer to the Jupyter Widgets documentation:\n",
    "\n",
    "https://ipywidgets.readthedocs.io"
   ]
  },
  {
   "cell_type": "markdown",
   "metadata": {},
   "source": [
    "## 0 Imports\n",
    "\n",
    "As usual, we will start by making the necessary imports.  \n",
    "\n",
    "Remember to run this cell first, before any of the subsequent cells."
   ]
  },
  {
   "cell_type": "code",
   "execution_count": null,
   "metadata": {},
   "outputs": [],
   "source": [
    "# First import the widgets and display modules\n",
    "%matplotlib inline\n",
    "\n",
    "import ipywidgets as widgets\n",
    "from IPython.display import display, clear_output\n",
    "\n",
    "# Also import numpy for generating data and Matplotlib for plotting\n",
    "import numpy as np\n",
    "import pandas as pd\n",
    "import matplotlib.pyplot as plt\n",
    "from scipy import signal\n",
    "\n",
    "#Set the size of subsequent Matplotlib plots\n",
    "plt.rcParams['figure.figsize'] = [12, 7.5]"
   ]
  },
  {
   "cell_type": "markdown",
   "metadata": {},
   "source": [
    "## 1 Clickable buttons\n",
    "\n",
    "The simplest form of an input widget is a clickable button.   To use the button, we need to define a function that will be called each time the button is clicked.  This type of function - that is called in response to an event, rather than explicitly from within the program - is referred to as a _callback function_. \n",
    "\n",
    "### 1.1 Responding to a button click\n",
    "In this first example, the callback function `on_button_clicked()` prints a message every time the button is pressed."
   ]
  },
  {
   "cell_type": "code",
   "execution_count": null,
   "metadata": {},
   "outputs": [],
   "source": [
    "# Based on: https://ipywidgets.readthedocs.io/en/latest/examples/Widget%20Events.html\n",
    "\n",
    "# Define a function to be called when the button is clicked\n",
    "def on_button_clicked(b):\n",
    "    with output_1_1:\n",
    "        print(\"Button clicked.\")\n",
    "\n",
    "# Now create the button and an output zone\n",
    "btn = widgets.Button(description = \"Click Here\")\n",
    "output_1_1 = widgets.Output()\n",
    "\n",
    "display(btn, output_1_1)\n",
    "\n",
    "# This line calls the function each time the button is clicked\n",
    "btn.on_click(on_button_clicked)"
   ]
  },
  {
   "cell_type": "markdown",
   "metadata": {},
   "source": [
    "### 1.2 Multiple buttons\n",
    "We can create multiple buttons and connect them to different functions.  This allows different things to happen, depending on which button was pressed.\n",
    "\n",
    "In this example, two buttons are created - `Start` and `Stop`.   Each is connected with its own callback function.  \n",
    "\n",
    "This time, the functions use `clear_output()` to clear the previous output, preventing the lines of output from scrolling down the page.  See what happens if you remove (or comment out) these lines."
   ]
  },
  {
   "cell_type": "code",
   "execution_count": null,
   "metadata": {},
   "outputs": [],
   "source": [
    "# Define a function to be called when the first button is clicked\n",
    "def on_start_clicked(b):\n",
    "    with output_1_2:\n",
    "        clear_output()\n",
    "        print(\"Process started\")\n",
    "\n",
    "def on_stop_clicked(b):\n",
    "    with output_1_2:\n",
    "        clear_output()\n",
    "        print(\"Process stopped\")\n",
    "\n",
    "# Now create the button and an output zone\n",
    "btnStart = widgets.Button(description = \"Start\")\n",
    "btnStop  = widgets.Button(description = \"Stop\")\n",
    "output_1_2 = widgets.Output()\n",
    "\n",
    "display(btnStart, btnStop, output_1_2)\n",
    "\n",
    "# This line calls the function each time the button is clicked\n",
    "btnStart.on_click(on_start_clicked)\n",
    "btnStop.on_click(on_stop_clicked)"
   ]
  },
  {
   "cell_type": "markdown",
   "metadata": {},
   "source": [
    "### 1.3 Using widgets to control plotting\n",
    "So far, the functions called by the button presses have simply printed out a message, but these functions can be defined to do anything you want.  In this example, the buttons are used to choose which of two graphs to plot.\n",
    "\n",
    "The two buttons are `Sine` and `Cosine`.   Each is connected with its own callback function, which determines the type of wave to plot.  \n",
    "\n",
    "The functions again use `clear_output()` to clear the previous output, preventing the output from scrolling down the page.  See what happens if you remove (or comment out) these lines."
   ]
  },
  {
   "cell_type": "code",
   "execution_count": null,
   "metadata": {
    "scrolled": false
   },
   "outputs": [],
   "source": [
    "# Define a function to be called when the first button is clicked\n",
    "def on_sine_clicked(b):\n",
    "    with output_1_3:\n",
    "        clear_output()\n",
    "        plt.plot(arr_theta, arr_sin, color = \"blue\")\n",
    "        plt.title(\"Sine wave\")\n",
    "        plt.grid()\n",
    "        plt.show()\n",
    "\n",
    "# Define a function to be called when the second button is clicked\n",
    "def on_cosine_clicked(b):\n",
    "    with output_1_3:\n",
    "        clear_output()\n",
    "        plt.close()\n",
    "        plt.plot(arr_theta, arr_cos, color = \"red\")\n",
    "        plt.title(\"Cosine wave\")\n",
    "        plt.grid()\n",
    "        plt.show()\n",
    "        \n",
    "#Set the size of subsequent Matplotlib plots\n",
    "plt.rcParams['figure.figsize'] = [12, 7.5]\n",
    "\n",
    "# Create arrays to be plotted \n",
    "arr_theta = np.arange(-3*np.pi, +3*np.pi, 0.01)\n",
    "arr_sin = np.sin(arr_theta)\n",
    "arr_cos = np.cos(arr_theta)\n",
    "\n",
    "\n",
    "# Now create the button and an output zone\n",
    "btnSine = widgets.Button(description = \"Sine\")\n",
    "btnCosine  = widgets.Button(description = \"Cosine\")\n",
    "output_1_3 = widgets.Output()\n",
    "\n",
    "display(btnSine, btnCosine, output_1_3)\n",
    "\n",
    "# This line calls the relevant function each time the corresponding button is clicked\n",
    "btnSine.on_click(on_sine_clicked)\n",
    "btnCosine.on_click(on_cosine_clicked)"
   ]
  },
  {
   "cell_type": "markdown",
   "metadata": {},
   "source": [
    "## 2. Numerical slider\n",
    "\n",
    "Often a numerical value is needed as input to a function.  Instead of prompting the user to type in a number each time, we can use a slider. \n",
    "\n",
    "Again we need to define a callback function that will be called each time something happens to the control.  This time, the function `on_value_change()` is called each time the slider is moved, and it prints out the new value. \n",
    "\n",
    "### 2.1 Factorial calculator\n",
    "The following cell contains a short program to calculate factorials. \n",
    "\n",
    "When the slider is moved, the function `on_value_change()` is passed the current value of the slider, and it calculates and displays the factorial"
   ]
  },
  {
   "cell_type": "code",
   "execution_count": null,
   "metadata": {},
   "outputs": [],
   "source": [
    "# Define a function to be called when the slider is moved\n",
    "def on_value_change(change):\n",
    "    with output_2_1:\n",
    "        clear_output()\n",
    "        x = change[\"new\"]    # new value of the slider (experiment with change[\"old]\")\n",
    "        print(f\"{x}! = {np.math.factorial(x):.6g}\")\n",
    "\n",
    "# Create the slider and an output zone\n",
    "sldFactCalc = widgets.IntSlider()\n",
    "output_2_1 = widgets.Output()\n",
    "\n",
    "display(sldFactCalc, output_2_1)\n",
    "\n",
    "# Call function each time the value is changed\n",
    "sldFactCalc.observe(on_value_change, names = \"value\")"
   ]
  },
  {
   "cell_type": "markdown",
   "metadata": {},
   "source": [
    "### 2.2 Controlling slider range\n",
    "By default, a slider has integer values from zero to 100, but it is possible to specify the range and step size by setting these when creating the slider.\n",
    "\n",
    "In this example, the slider is set to have a range from -20 to +20.  A descriptive label is also added to the slider, using the `description = \"...\"` parameter.\n",
    "\n",
    "Note what happens when a negative value is sent to the function (remember that factorials are only defined for positive numbers). "
   ]
  },
  {
   "cell_type": "code",
   "execution_count": null,
   "metadata": {},
   "outputs": [],
   "source": [
    "# Define a function to be called when the slider is moved\n",
    "def on_value_change(change):\n",
    "    with output_2_2:\n",
    "        clear_output()\n",
    "        x = change[\"new\"]    # new value of the slider (experiment with change[\"old]\")\n",
    "        print(f\"{x}! = {np.math.factorial(x):.6g}\")\n",
    "\n",
    "# Create the slider and an output zone\n",
    "sldPlusMinus = widgets.IntSlider(min = -20, max = +20, step = 1, description = \"Number\")\n",
    "output_2_2 = widgets.Output()\n",
    "\n",
    "display(sldPlusMinus, output_2_2)\n",
    "\n",
    "# Call function each time the value is changed\n",
    "sldPlusMinus.observe(on_value_change, names = \"value\")"
   ]
  },
  {
   "cell_type": "markdown",
   "metadata": {},
   "source": [
    "### 2.3 Using slider values in subsequent cells\n",
    "As well as being used within a cell to call a function, it is possible to use the value of a slider later in the same notebook.  To do this, make sure that each slider has a unique name.  You can then refer to the slider value using `slidername.value`\n",
    "\n",
    "The example in the following cell prints out the values of the sliders in the previous two examples (make sure that you run these cells first)."
   ]
  },
  {
   "cell_type": "code",
   "execution_count": null,
   "metadata": {},
   "outputs": [],
   "source": [
    "# Print values of sliders in previous cells\n",
    "\n",
    "print(f\"Factorial calculator: {sldFactCalc.value}\")\n",
    "print(f\"PlusMinus: {sldPlusMinus.value}\")"
   ]
  },
  {
   "cell_type": "markdown",
   "metadata": {},
   "source": [
    "### 2.4 Multiple sliders\n",
    "It is possible to use multiple sliders at the same time.  This time, we'll create two sliders, one with an integer value and a floating point one.\n",
    "\n",
    "As an additional refinement, both sliders call the same function this time.  Instead of using the change value passed to the function, the values of the sliders are retrieved explicitly.  This allows a single function to respond to both sliders, and to make use of both values."
   ]
  },
  {
   "cell_type": "code",
   "execution_count": null,
   "metadata": {},
   "outputs": [],
   "source": [
    "# Define a function to be called when the first slider is moved\n",
    "def on_value_change(change):\n",
    "    with output_2_4:\n",
    "        clear_output()\n",
    "        print(f\"IntegerSlider: {sldInt.value} FloatSlider: {sldFloat.value}\")\n",
    "\n",
    "# Create the sliders and an output zone\n",
    "sldInt = widgets.IntSlider()\n",
    "sldFloat = widgets.FloatSlider()\n",
    "output_2_4 = widgets.Output()\n",
    "\n",
    "display(sldInt, sldFloat, output_2_4)\n",
    "\n",
    "# Call function each time the value is changed\n",
    "sldInt.observe(on_value_change, names = \"value\")\n",
    "sldFloat.observe(on_value_change, names = \"value\")"
   ]
  },
  {
   "cell_type": "markdown",
   "metadata": {},
   "source": [
    "### 2.5 Interactive plot using multiple sliders\n",
    "So far, the slider examples have simply printed out messages, but as with the button examples, the callback function can do anything you want it to.\n",
    "\n",
    "In the following example, the callback function plots a graph based on the values of the two sliders."
   ]
  },
  {
   "cell_type": "code",
   "execution_count": null,
   "metadata": {},
   "outputs": [],
   "source": [
    "# Define a function to be called when the first slider is moved\n",
    "def on_value_change(change):\n",
    "    phase = sldPhase.value\n",
    "    amp = sldAmplitude.value\n",
    "    arr_sin = np.sin(arr_theta)\n",
    "    arr_phase = amp*np.sin(arr_theta - phase)\n",
    "    with output_2_5:\n",
    "        clear_output()\n",
    "        print(f\"Phase: {sldPhase.value} Amplitude: {sldAmplitude.value}\")\n",
    "        plt.plot(arr_theta, arr_sin, color = \"grey\")\n",
    "        plt.plot(arr_theta, arr_phase, color = \"blue\")\n",
    "        plt.ylim(-1.0, +1.0)\n",
    "        plt.title(\"Sine wave\")\n",
    "        plt.grid()\n",
    "        plt.show()\n",
    "        \n",
    "#Set the size of subsequent Matplotlib plots\n",
    "plt.rcParams['figure.figsize'] = [12, 7.5]\n",
    "\n",
    "# Create arrays to be plotted \n",
    "arr_theta = np.arange(-3*np.pi, +3*np.pi, 0.01)\n",
    "\n",
    "# Create the sliders and an output zone\n",
    "sldPhase = widgets.FloatSlider(min = -np.pi, max = +np.pi, step = 0.02, description = \"Phase\", value = 0.00)\n",
    "sldAmplitude = widgets.FloatSlider(min = 0.0, max = 1.0, step = 0.02, description = \"Amplitude\", value = 0.2)\n",
    "output_2_5 = widgets.Output()\n",
    "\n",
    "display(sldPhase, sldAmplitude, output_2_5)\n",
    "\n",
    "# Call function each time the value is changed\n",
    "sldPhase.observe(on_value_change, names = \"value\")\n",
    "sldAmplitude.observe(on_value_change, names = \"value\")"
   ]
  },
  {
   "cell_type": "markdown",
   "metadata": {},
   "source": [
    "### 2.6 Creating widgets automatically using `interact`\n",
    "In the previous example you may have noticed the display flickering as a result of the graph being cleared and redrawn each time one of the sliders was moved. \n",
    "\n",
    "The following cell uses a different method of creating the widgets and displaying the output. \n",
    "\n",
    "The `ipywidgets.interact` feature simplifies the creation of widgets.  Instead of creating each widget explicitly and connecting it to a function, `interact` creates widgets and connects them to a function automatically.  This is done by specifying the name of a function, together with the variables and ranges that you want to create controls for, in a single `interact()` statement.  This takes care of creating the controls (two FloatSliders in this case) and connecting them to the specified function.  `interact` also sets up the display and output areas, saving you from having to create them explicitly.\n",
    "\n",
    "An additional advantage of using `interact` is that the animation of the graph is much smoother.  One disadvantage is that, since the sliders are created automatically, their names are hidden, making it more difficult to refer to their values in later cells. \n",
    "\n",
    "There are more details, and examples of how to use `interact` with other controls, in the `ipywidgets` documentation:\n",
    "\n",
    "https://ipywidgets.readthedocs.io/en/latest/examples/Using%20Interact.html\n"
   ]
  },
  {
   "cell_type": "code",
   "execution_count": null,
   "metadata": {},
   "outputs": [],
   "source": [
    "# Define a function to be called when the first slider is moved\n",
    "\n",
    "def f(phase, amp):\n",
    "    arr_sin = np.sin(arr_theta)\n",
    "    arr_phase = amp*np.sin(arr_theta - phase)\n",
    "    #Set the size of subsequent Matplotlib plots\n",
    "    plt.rcParams['figure.figsize'] = [12, 7.5]\n",
    "    plt.plot(arr_theta, arr_sin, color = \"grey\")\n",
    "    plt.plot(arr_theta, arr_phase, color = \"blue\")\n",
    "    plt.ylim(-1.0, +1.0)\n",
    "    plt.title(\"Sine wave\")\n",
    "    plt.grid()\n",
    "    plt.show()\n",
    "        \n",
    "#Set the size of subsequent Matplotlib plots\n",
    "plt.rcParams['figure.figsize'] = [12, 7.5]\n",
    "\n",
    "# Create arrays to be plotted \n",
    "arr_theta = np.arange(-3*np.pi, +3*np.pi, 0.01)\n",
    "\n",
    "# use interact to create widgets on the fly\n",
    "widgets.interact(f, phase = (-np.pi, +np.pi, 0.02), amp = (0, 1.00, 0.02))"
   ]
  },
  {
   "cell_type": "markdown",
   "metadata": {},
   "source": [
    "## 3. Dropdown box\n",
    "\n",
    "Another useful interaction is being able to select something from a list.  This could be a list of files, containing data to plot, or a list of plot types. \n",
    "\n",
    "### 3.1 Simple dropdown box\n",
    "In this first example, a dropdown box is used to select from a list of different wavebands.  To create the dropdown box, we first define a list containing the options that we want to select from.\n",
    "\n",
    "In this format, the value of the dropdown box is simply the displayed option name. Alternatively you can associate an index number with each choice - to do this, use a list of tuples, each containing the name to display and an index number"
   ]
  },
  {
   "cell_type": "code",
   "execution_count": null,
   "metadata": {},
   "outputs": [],
   "source": [
    "# Define the list of options to display\n",
    "lstOptions = [\"Infrared\", \"Visible\", \"Ultraviolet\", \"Radio\"]\n",
    "\n",
    "# Alternatively, you can associate an index number with each option.\n",
    "# Uncomment the next line to try this out.\n",
    "# lstOptions = [(\"Infrared\", 0), (\"Visible\", 1), (\"Ultraviolet\", 2), (\"Radio\", 3)]\n",
    "\n",
    "def on_selection_change(change):\n",
    "    with output_3_1:\n",
    "        clear_output()\n",
    "        print(f\"Waveband: {drpWaveband.value}\")\n",
    "\n",
    "drpWaveband = widgets.Dropdown(options = lstOptions, description = \"Waveband:\")\n",
    "\n",
    "output_3_1 = widgets.Output()\n",
    "\n",
    "display(drpWaveband, output_3_1)\n",
    "\n",
    "# Call function each time the value is changed\n",
    "drpWaveband.observe(on_selection_change, names = \"value\")\n"
   ]
  },
  {
   "cell_type": "markdown",
   "metadata": {},
   "source": [
    "As with the other widgets, the selected option is available in later cells"
   ]
  },
  {
   "cell_type": "code",
   "execution_count": null,
   "metadata": {},
   "outputs": [],
   "source": [
    "print(drpWaveband.value)"
   ]
  },
  {
   "cell_type": "markdown",
   "metadata": {},
   "source": [
    "### 3.2 Controlling plots using a dropdown box\n",
    "\n",
    "This time we'll create the dropdown box using `interact`.  The choices are several different waveforms.\n",
    "\n",
    "To determine which type of wave to plot, the list of options used to create the dropdown is a list of tuples, defining an index number for each option.  This is then used within the callback function `display_wave()` to decide which wave to plot - and also to set the colour and the title accordingly.  \n",
    "\n",
    "This example uses `scipy.signal` to generate some of the waveforms."
   ]
  },
  {
   "cell_type": "code",
   "execution_count": null,
   "metadata": {
    "scrolled": false
   },
   "outputs": [],
   "source": [
    "# Define a function to be called when the first slider is moved\n",
    "\n",
    "def display_wave(WaveType):\n",
    "    arr_sin = np.sin(arr_theta)\n",
    "    arr_cos = np.cos(arr_theta)\n",
    "    \n",
    "    #Set the size of subsequent Matplotlib plots\n",
    "    plt.rcParams['figure.figsize'] = [12, 7.5]\n",
    "    \n",
    "    if WaveType == 0:\n",
    "        strTitle = \"Sine wave\"\n",
    "        arr_plt = np.sin(arr_theta)\n",
    "        strColor = \"blue\"\n",
    "    elif WaveType == 1:\n",
    "        strTitle = \"Cosine wave\"\n",
    "        arr_plt = np.cos(arr_theta)\n",
    "        strColor = \"red\"\n",
    "    elif WaveType == 2:\n",
    "        strTitle = \"Triangle wave\"        \n",
    "        arr_plt = signal.sawtooth(arr_theta, width = 0.5)\n",
    "        strColor = \"green\"\n",
    "    elif WaveType == 3:\n",
    "        strTitle = \"Square wave\"\n",
    "        arr_plt = signal.square(arr_theta)\n",
    "        strColor = \"black\"\n",
    "    \n",
    "    plt.plot(arr_theta, arr_plt, color = strColor)\n",
    "    plt.ylim(-1.1, +1.1)\n",
    "    plt.title(strTitle)\n",
    "    plt.grid()\n",
    "    plt.show()\n",
    "        \n",
    "# Create arrays to be plotted \n",
    "arr_theta = np.arange(-3*np.pi, +3*np.pi, 0.01)\n",
    "\n",
    "# use interact to create widgets on the fly\n",
    "widgets.interact(display_wave, WaveType = [(\"Sine\", 0), (\"Cosine\", 1), (\"Triangle\", 2), (\"Square\", 3)])"
   ]
  },
  {
   "cell_type": "markdown",
   "metadata": {},
   "source": [
    "## 4. Exercises\n",
    "\n",
    "In this workbook you have seen three types of interactive widgets: buttons, sliders and dropdown boxes.  There are many more control types available within `ipywidgets`.  \n",
    "\n",
    "To complete your exploration of `ipywidgets`, try these optional exercises:\n",
    "\n",
    "\n",
    "### 4.1 Combining controls\n",
    "Try combining several controls together - for example a dropdown box to select a wave type, and sliders for the phase and amplitude.\n",
    "\n",
    "### 4.2 File list\n",
    "One useful application of a dropdown list would be as an alternative to typing in a filename.  Try creating a dropdown box using a list of filenames (perhaps generated using `glob()` or `os.listdir()`) to select a file and plot the contents.  \n",
    "\n",
    "### 4.3 Using other widget types\n",
    "The `ipywidget` documentation has a list of the widget types available:\n",
    "\n",
    "https://ipywidgets.readthedocs.io/en/latest/examples/Widget%20List.html\n",
    "\n",
    "Each comes with a description and examples. There are selection widgets such as checkboxes and radio buttons, input widgets for text, and many more.  Take look at the different widgets and think about how you might use them in your own programs and notebooks.  Try to include some of these widgets in the next program you write."
   ]
  }
 ],
 "metadata": {
  "kernelspec": {
   "display_name": "Python 3",
   "language": "python",
   "name": "python3"
  },
  "language_info": {
   "codemirror_mode": {
    "name": "ipython",
    "version": 3
   },
   "file_extension": ".py",
   "mimetype": "text/x-python",
   "name": "python",
   "nbconvert_exporter": "python",
   "pygments_lexer": "ipython3",
   "version": "3.7.3"
  }
 },
 "nbformat": 4,
 "nbformat_minor": 2
}
