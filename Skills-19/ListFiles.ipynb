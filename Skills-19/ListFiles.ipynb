{
 "cells": [
  {
   "cell_type": "markdown",
   "metadata": {},
   "source": [
    "# ListFiles\n",
    "\n",
    "Version 0.1 Dec 2019\n",
    "\n",
    "This notebook demonstrates the use of the  `os` and `glob` modules to find and list files located in different locations.\n",
    "\n",
    "The `os` module covers a wide range of low-level operating system functions, such as finding files and directories, creating and deleting files and directories, working with environment variables.  Some of these should be used with care !   Here we will be concerned only with the functions relating to finding and listing files.\n",
    "\n",
    "The `glob` module is far more focused in scope, concentrating on finding and listing files.  It does this in an operating sytem independent way.\n",
    "\n",
    "Both of these modules are part of the Python standard library, so can be used without any additional installation or setup. They just need to be imported in the usual way.\n",
    "\n",
    "For further information, refer to the Python documentation:\n",
    "\n",
    "https://docs.python.org/3/library/os.html\n",
    "\n",
    "https://docs.python.org/3/library/glob.html\n"
   ]
  },
  {
   "cell_type": "markdown",
   "metadata": {},
   "source": [
    "### 1. Listing files with `os`\n",
    "\n",
    "To simply list the contents of a folder or directory, `os.listdir()` is the quickest and easiest way.\n",
    "\n",
    "This will list all of the files in the folder specified by the pathname. In Windows, pathnames start with a drive letter. Macintosh pathnames work in a similar way, but without the drive letter.\n",
    "\n",
    "One quirk of Python is that the backslash character ' \\\\ ' , which is used in Windows as part of a pathname, has a special meaning (it is used as an escape character), and so can't be included in a pathname.  To specify a Windows pathname in Python, use the forward slash character ' / ' instead. \n",
    "\n",
    "For example, suppose that you have a folder `C:\\OU\\SXPS288` set up to hold all of your work on SXPS288, and within that you have a folder structure for the different investigations, including a folder `C:\\OU\\SXPS288\\DataFiles\\ReferenceSpectra` containing some spectra files that you have downloaded.\n",
    "\n",
    "(On a Macintosh, the corresponding pathname might be something like: `Users\\yourname\\OU\\SXPS288\\DataFiles\\ReferenceSpectra`)"
   ]
  },
  {
   "cell_type": "code",
   "execution_count": null,
   "metadata": {
    "scrolled": false
   },
   "outputs": [],
   "source": [
    "import os\n",
    "\n",
    "# This will list all of the files in a specified folder.\n",
    "# Modify the pathname in this example to match the location of the files on your computer\n",
    "\n",
    "lstFiles = os.listdir(\"C:/OU/SXPS288/DataFiles/ReferenceSpectra\")\n",
    "\n",
    "for filename in lstFiles:\n",
    "    print(filename)"
   ]
  },
  {
   "cell_type": "markdown",
   "metadata": {},
   "source": [
    "### 2. Listing files with `glob`\n",
    "\n",
    "While `os.listdir()` is quick and easy, it is also indiscriminate.  As you may have found, it simply lists all of the files in the location specified by the pathname.  If you have a mixture of different files or a large number of files, you may wish to search for a specific subset or group of files (for instance, to list only the .csv files).  \n",
    "\n",
    "You can do this using `glob()`, which allows you to specify a wildcard search string in addition to the pathname. "
   ]
  },
  {
   "cell_type": "code",
   "execution_count": null,
   "metadata": {},
   "outputs": [],
   "source": [
    "import glob\n",
    "\n",
    "# Glob allows you to add a wildcard to the pathname.  Only files matching the pattern will be listed.\n",
    "# Modify the pathname in this example to match the location of the files on your computer\n",
    "\n",
    "strPath = \"C:/OU/SXPS288/DataFiles/ReferenceSpectra/\"\n",
    "nPathLen = len(strPath)\n",
    "\n",
    "#Search for .csv files.  Change the filter (e.g. to \"*.jdx\") to search for files of a different type.\n",
    "dirlist = glob.glob(strPath + \"*.csv\")\n",
    "\n",
    "# Unlike os.listdir(), glob() returns the entire pathname\n",
    "# To get just the file names, this loop removes the first part of the pathname before printing\n",
    "# Try printing pathname instead to see the actual strings returned by glob()\n",
    "for pathname in dirlist:\n",
    "    filename = pathname[nPathLen:]\n",
    "    print(filename)"
   ]
  },
  {
   "cell_type": "markdown",
   "metadata": {},
   "source": [
    "### 3. Exercise: filters and wildcards\n",
    "\n",
    "Experiment with the example in the previous cell.  Try changing the pathname to list files in different folders, and use the wildcard to select files of different types, or files with certain characters in the filename. \n",
    "\n",
    "You may also want to try building a list or a dict of the filenames instead of printing them out."
   ]
  },
  {
   "cell_type": "code",
   "execution_count": null,
   "metadata": {},
   "outputs": [],
   "source": [
    "### Write your solution here"
   ]
  }
 ],
 "metadata": {
  "kernelspec": {
   "display_name": "Python 3",
   "language": "python",
   "name": "python3"
  },
  "language_info": {
   "codemirror_mode": {
    "name": "ipython",
    "version": 3
   },
   "file_extension": ".py",
   "mimetype": "text/x-python",
   "name": "python",
   "nbconvert_exporter": "python",
   "pygments_lexer": "ipython3",
   "version": "3.7.3"
  }
 },
 "nbformat": 4,
 "nbformat_minor": 2
}
