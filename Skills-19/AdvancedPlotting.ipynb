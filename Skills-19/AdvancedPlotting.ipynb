{
 "cells": [
  {
   "cell_type": "markdown",
   "metadata": {},
   "source": [
    "# AdvancedPlotting\n",
    "\n",
    "Version 0.1 Jan 2020\n",
    "\n",
    "This notebook demonstrates some of the different plot and chart types available using Matplotlib. So far, most of the plots that you have made will have been line or scatter pltos, but Matplotlib has many other types of charts.\n",
    "\n",
    "In this notebook, we will look at some of these alternative chart types, including histograms, contour plots and 3D plots.\n",
    "\n",
    "For further information, refer to the Matplotlib gallery:\n",
    "\n",
    "https://matplotlib.org/gallery/index.html\n",
    "\n",
    "This contains examples and downloadable source code for each plot type.  You can adapt these and use them in your own programs."
   ]
  },
  {
   "cell_type": "markdown",
   "metadata": {},
   "source": [
    "## 0 Imports\n",
    "We'll start by making the usual imports and other setups.\n",
    "\n",
    "Remember to run this cell before any of the subsequent cells."
   ]
  },
  {
   "cell_type": "code",
   "execution_count": null,
   "metadata": {},
   "outputs": [],
   "source": [
    "import matplotlib.pyplot as plt\n",
    "from matplotlib import cm\n",
    "from mpl_toolkits.mplot3d import Axes3D\n",
    "import numpy as np\n",
    "\n",
    "import ipywidgets as widgets\n",
    "from IPython.display import display, clear_output\n",
    "\n",
    "%matplotlib inline"
   ]
  },
  {
   "cell_type": "markdown",
   "metadata": {},
   "source": [
    "## 1 Histograms\n",
    "A histogram displays data as a series of vertical or horizontal columns.  This format is commonly used where continuous measurements are grouped together into numerical ranges, or _bins_.  An example would be the counts in the Compton experiment.\n",
    "\n",
    "Histograms are closely related to _bar charts_.  The main difference is that bar charts can be used to represent _categorical data_ where the values are grouped according to some other criterion (such comparing sales of different types of product).   In Matplotlib, these types of chart are produced using `pyplot.hist()` and `pyplot.bar()`. \n",
    "\n",
    "### 1.1 Simple histogram\n",
    "In this first example, we will create a histogram to represent a dataset that could be counts in an x-ray experiment.  We'll first create an array containing some data using numpy, and then use `pyplot.hist()` to generate the histogram.  `pyplot.hist()` divides the range into the specified number of bins, counts up the number of values in each bin and plots these as vertical bars.\n",
    "\n",
    "More information:\n",
    "\n",
    "https://matplotlib.org/api/_as_gen/matplotlib.pyplot.hist.html"
   ]
  },
  {
   "cell_type": "code",
   "execution_count": null,
   "metadata": {
    "scrolled": false
   },
   "outputs": [],
   "source": [
    "#Set the size of subsequent Matplotlib plots\n",
    "plt.rcParams[\"figure.figsize\"] = [12, 7.5]\n",
    "\n",
    "# Data for plotting\n",
    "arrData = np.random.normal(200, 50, 1000)\n",
    "\n",
    "# Generate plot using pyplot.hist()\n",
    "# bins controls the number of bins\n",
    "# rwidth specifies the width of the bars as a fraction of the bin width\n",
    "# density = False tells pyplot.hist() to plot the actual number of counts\n",
    "# Setting density = True normalises the values so that they sum to 1.0\n",
    "plt.hist(arrData, bins = 20, rwidth = 0.90, density = False)\n",
    "plt.xlabel(\"Channel\")\n",
    "plt.ylabel(\"Counts\")\n",
    "\n",
    "plt.title(\"Histogram\")\n",
    "\n",
    "plt.show()"
   ]
  },
  {
   "cell_type": "markdown",
   "metadata": {},
   "source": [
    "### 1.2 Histogram with error bars\n",
    "As with a line plot it is important to include error bars, to indicate the range of possible values.  This is possible using `pyplot.bar()`.  In order to create the bar chart, we need to divide the data into bins ourselves - this can be done using numpy.\n",
    "\n",
    "More information:\n",
    "\n",
    "https://matplotlib.org/api/_as_gen/matplotlib.pyplot.bar.html"
   ]
  },
  {
   "cell_type": "code",
   "execution_count": null,
   "metadata": {},
   "outputs": [],
   "source": [
    "#Set the size of subsequent Matplotlib plots\n",
    "plt.rcParams[\"figure.figsize\"] = [12, 7.5]\n",
    "\n",
    "# Data for plotting\n",
    "arrData = np.random.normal(200, 50, 1000)            # generates random data\n",
    "counts, binEdges = np.histogram(arrData, bins = 20)  # collects data into bins\n",
    "arrError = np.sqrt(counts)                           # error on each count\n",
    "binCentres = 0.5*(binEdges[1:]+binEdges[:-1])        # centreline of each bin\n",
    "binWidth = 12                                        # width of each bin\n",
    "\n",
    "# Generate plot, with error bars\n",
    "plt.bar(binCentres, counts, width = binWidth, color = \"red\", yerr = arrError, capsize = 5)\n",
    "plt.xlabel(\"Channel\")\n",
    "plt.ylabel(\"Counts\")\n",
    "\n",
    "plt.title(\"Histogram with error bars\")\n",
    "\n",
    "plt.show()"
   ]
  },
  {
   "cell_type": "markdown",
   "metadata": {},
   "source": [
    "## 2 Contour plots\n",
    "\n",
    "\n",
    "### 2.1 Contour plot of drum vibrations\n",
    "Contour plots are a useful way of visualising two-dimensional data.  These could be elevations as on a map, magnetic field strengths, or any similar set of two-dimensional data.\n",
    "\n",
    "Here we will create a contour plot using _Bessel functions,_ which can be used to decribe the patterns or modes of vibration on a circular membrane such as a drum.  You can adapt this example to plot any two-dimensional dataset.\n",
    "\n",
    "The example in the following cell is based on the scipy example:\n",
    "\n",
    "https://scipython.com/book/chapter-8-scipy/examples/drum-vibrations-with-bessel-functions/\n",
    "\n",
    "To create the plot, two two-dimensional grids are prepared, holding the $x$ and $y$ values of the data points.  The function `Bessel_displacement()` then calculates the displacement of the membrane at each point, and stores this in a $z$ array.  These three grids are passed to the function `pyplot.contour()` which generates the contour plot. \n",
    "\n",
    "More information on `pyplot.contour()`:\n",
    "\n",
    "https://matplotlib.org/api/_as_gen/matplotlib.pyplot.contour.html"
   ]
  },
  {
   "cell_type": "code",
   "execution_count": null,
   "metadata": {
    "scrolled": false
   },
   "outputs": [],
   "source": [
    "from scipy.special import jn, jn_zeros\n",
    "\n",
    "#https://courses.physics.illinois.edu/phys406/sp2017/Lecture_Notes/P406POM_Lecture_Notes/P406POM_Lect4_Part2.pdf\n",
    "\n",
    "# Set the size of subsequent Matplotlib plots\n",
    "# this time we want the plot to be square (for a 1:1 aspect ratio)\n",
    "plt.rcParams[\"figure.figsize\"] = [12, 12]\n",
    "\n",
    "# Allow calculations up to m = mmax\n",
    "mmax = 5\n",
    "\n",
    "# Calculate the displacement of the drum membrane at (r, theta; t=0)\n",
    "# in the normal mode described by integers n >= 0, 0 < m <= mmax.\n",
    "def Bessel_displacement(n, m, r, theta):\n",
    "    # Pick off the mth zero of Bessel function Jn\n",
    "    k = jn_zeros(n, mmax+1)[m]\n",
    "    return np.sin(n*theta) * jn(n, r*k)\n",
    "\n",
    "# Positions on the drum surface are specified in polar co-ordinates\n",
    "r = np.linspace(0, 1, 100)\n",
    "theta = np.linspace(0, 2 * np.pi, 100)\n",
    "\n",
    "# Create arrays of cartesian co-ordinates (x, y) ...\n",
    "x = np.array([rr*np.cos(theta) for rr in r])\n",
    "y = np.array([rr*np.sin(theta) for rr in r])\n",
    "# ... and vertical displacement (z) for the required normal mode at\n",
    "# time, t = 0\n",
    "\n",
    "# Change n and m for different vibration modes\n",
    "n, m = 3, 2\n",
    "z = np.array([Bessel_displacement(n, m, rr, theta) for rr in r])\n",
    "\n",
    "# Generate the contour plot\n",
    "plt.contour(x, y, z)\n",
    "plt.show()"
   ]
  },
  {
   "cell_type": "markdown",
   "metadata": {},
   "source": [
    "### 2.2 Shaded contour plot\n",
    "\n",
    "Contour plots join points of equal value with lines.  An alternative representation is to represent the values using shading. This can be done using `pyplot.contourf()`.\n",
    "\n",
    "More information on `pyplot.contourf()`:\n",
    "\n",
    "https://matplotlib.org/api/_as_gen/matplotlib.pyplot.contourf.html\n",
    "\n",
    "This example again uses the Bessel functions, but this time plots them using a specified colour map.  You can find more information on colour maps, and examples of predefined maps available, in the colormap tutorial:\n",
    "\n",
    "https://matplotlib.org/tutorials/colors/colormaps.html\n",
    "\n",
    "Experiment with using different colour maps.\n",
    "\n",
    "This time, we'll use widgets to select the values for $n$ and $m$, rather than having to type the values in by hand.  This creates a much more interactive plot, making it easier to visualise the modes.  Refer back to the `AdvancedInput` notebook for more information on using widgets."
   ]
  },
  {
   "cell_type": "code",
   "execution_count": null,
   "metadata": {
    "scrolled": false
   },
   "outputs": [],
   "source": [
    "from scipy.special import jn, jn_zeros\n",
    "\n",
    "#https://courses.physics.illinois.edu/phys406/sp2017/Lecture_Notes/P406POM_Lecture_Notes/P406POM_Lect4_Part2.pdf\n",
    "\n",
    "# Set the size of subsequent Matplotlib plots\n",
    "# this time we want the plot to be square (for a 1:1 aspect ratio)\n",
    "plt.rcParams[\"figure.figsize\"] = [12, 12]\n",
    "\n",
    "# Allow calculations up to m = mmax\n",
    "mmax = 5\n",
    "\n",
    "# Calculate the displacement of the drum membrane at (r, theta; t=0)\n",
    "# in the normal mode described by integers n >= 0, 0 < m <= mmax.\n",
    "def Bessel_displacement(n, m, r, theta):\n",
    "    # Pick off the mth zero of Bessel function Jn\n",
    "    k = jn_zeros(n, mmax+1)[m]\n",
    "    return np.sin(n*theta) * jn(n, r*k)\n",
    "\n",
    "def plot_bessel(n, m):\n",
    "    z = np.array([Bessel_displacement(n, m, rr, theta) for rr in r])\n",
    "    plt.contourf(x, y, z, levels = 50, cmap = cm.viridis)\n",
    "    plt.show()\n",
    "\n",
    "# Positions on the drum surface are specified in polar co-ordinates\n",
    "r = np.linspace(0, 1, 100)\n",
    "theta = np.linspace(0, 2 * np.pi, 100)\n",
    "\n",
    "# Create arrays of cartesian co-ordinates (x, y) ...\n",
    "x = np.array([rr*np.cos(theta) for rr in r])\n",
    "y = np.array([rr*np.sin(theta) for rr in r])\n",
    "\n",
    "# use interact to create widgets for selecting values of n and m\n",
    "widgets.interact(plot_bessel, n = (1, 5, 1), m = (0, 5, 1))"
   ]
  },
  {
   "cell_type": "markdown",
   "metadata": {},
   "source": [
    "## 3 3D plots\n",
    "\n",
    "Another way of visualising two-dimensional data is to display a three-dimensional surface, with the height $z$ of the surface at any point $(x, y)$ corresponding to the value of the function at that point.\n",
    "\n",
    "While Matplotlib is primarily a two-dimensional plotting package, it can be extended for 3D plotting using the  toolkit `mpl_toolkits.mplot3d`, which contains an `Axes3D` axis type. These are included in the Anaconda distribution so can be imported in the usual way.\n",
    "\n",
    "### 3.1 3D plot of sinc function\n",
    "This example creates a 3-D plot of the _sinc_ function:\n",
    "\n",
    "$$\\text{sinc}(x) = \\frac{\\sin(x)}{x}$$\n",
    "\n",
    "This function has the characteristic that it oscillates rapidly in the vicinity of the origin, but the amplitude dies away rapidly away from the origin. \n",
    "\n",
    "As with the contour plots, we start with arrays containing grids of $x$ and $y$ values.  This time, these are generated by the `numpy.meshgrid()` function.   The $z$ values are then calculated using `numpy.sinc()`.  The $x$, $y$ and $z$ grids are passed to `Axes3D.plot_surface()` together with other parameters to control the plot, such as specifying a colour map.\n",
    "\n",
    "The `mplot3d` toolkit contains a wide range of 3D plot types:\n",
    "\n",
    "https://matplotlib.org/tutorials/toolkits/mplot3d.html\n",
    "\n",
    "These can be explored in the usual way, with examples and downloadable source code that you can adapt to your own programs."
   ]
  },
  {
   "cell_type": "code",
   "execution_count": null,
   "metadata": {},
   "outputs": [],
   "source": [
    "# Example of using mplot3D to produce a 3D surface plot\n",
    "\n",
    "x = np.arange(-5, 5, 0.25)\n",
    "y = np.arange(-5, 5, 0.25)\n",
    "x, y = np.meshgrid(x, y)\n",
    "r = np.sqrt(x**2 + y**2)\n",
    "z = np.sinc(r)\n",
    "\n",
    "fig = plt.figure()\n",
    "ax = Axes3D(fig)\n",
    "# plot surface with colour map: https://matplotlib.org/tutorials/colors/colormaps.html\n",
    "surf = ax.plot_surface(x, y, z, rstride = 1, cstride = 1, cmap = cm.viridis)\n",
    "\n",
    "# Add a color bar which maps values to colors.\n",
    "fig.colorbar(surf, shrink = 0.5, aspect = 10)\n",
    "\n",
    "plt.show()"
   ]
  },
  {
   "cell_type": "markdown",
   "metadata": {},
   "source": [
    "## 4 Exercises\n",
    "\n",
    "\n",
    "### 4.1 Identify possible applications\n",
    "Think about how you might use the various plot types illustrated here and how you could adapt them to display your own data. Modify some of your existing programs to use these.\n",
    "\n",
    "### 4.2 Explore other plot types\n",
    "Explore the examples in the `pyplot` and `mplot3d` gallery and tutorials to see the range of other plot types available.  Think about how you might use some of these plot types in your own programs."
   ]
  }
 ],
 "metadata": {
  "kernelspec": {
   "display_name": "Python 3",
   "language": "python",
   "name": "python3"
  },
  "language_info": {
   "codemirror_mode": {
    "name": "ipython",
    "version": 3
   },
   "file_extension": ".py",
   "mimetype": "text/x-python",
   "name": "python",
   "nbconvert_exporter": "python",
   "pygments_lexer": "ipython3",
   "version": "3.7.3"
  }
 },
 "nbformat": 4,
 "nbformat_minor": 2
}
