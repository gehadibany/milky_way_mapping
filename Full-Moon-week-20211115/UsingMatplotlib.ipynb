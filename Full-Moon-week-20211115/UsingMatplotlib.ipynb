{
 "cells": [
  {
   "cell_type": "markdown",
   "metadata": {},
   "source": [
    "# Using Matplotlib\n",
    "\n",
    "Version 0.3 Nov 2020\n",
    "\n",
    "The `matplotlib` package contains numerous modules that allow scientists to create great looking plots that really help to explain and understand their data and their results.  In this notebook we will concentrate on the `pyplot` module.\n",
    "\n",
    "This notebook gives brief examples of how to read in some data from a CSV file and then plot it using the functionality provided by `matplotlib.pyplot`. The examples we'll cover demonstrate just a few of the powerful features. After reviewing this material you might like to compare it with the `UsingBokeh` notebook.\n",
    "\n",
    "We've provided two data files: `compton.csv` and `squares_2.csv` to accompany the examples. These need to be in the same folder as this notebook.\n",
    "\n",
    "As usual the first cell contains statements to import modules and perform some notebook setup.\n",
    "\n",
    "The `%matplotlib inline` statement just instructs `matplotlib` to render any figures directly into the Jupyter Notebook interface - you wouldn't need this in a Python program intended to run from the command line.\n",
    "\n",
    "The `plt.rcParams['figure.figsize']=[12, 7.5]` in a later cell sets a default size (12 by 7.5 inches) for any figure that we produce. This default can be overriden if neccessary.\n"
   ]
  },
  {
   "cell_type": "code",
   "execution_count": null,
   "metadata": {},
   "outputs": [],
   "source": [
    "import matplotlib.pyplot as plt\n",
    "import numpy as np\n",
    "import pandas as pd\n",
    "\n",
    "%matplotlib inline\n"
   ]
  },
  {
   "cell_type": "markdown",
   "metadata": {},
   "source": [
    "## 1. Read in the data\n",
    "\n",
    "Now we'll read in some data. In this case the data come from the SXPS288 Compton experiment. The `compton.csv` file contains seven columns. The first simply contains channel numbers, the second contains calibration data and the remaining 5 columns contain measurement data for scattering angles of 30, 60, 90 120 and 150 degrees.\n",
    "\n",
    "The first line of the file contains the column header names: \n",
    "    \n",
    "    Channels,Calibration,30,60,90,120,150\n",
    "\n",
    "We'll read in the CSV data to a _Pandas_ `DataFrame` (See the `UsingPandas` notebook). \n",
    "\n",
    "If you didn't want to use _Pandas_ you could also use the _NumPy_ **`genfromtxt()`** function to read data from the CSV file. \n"
   ]
  },
  {
   "cell_type": "code",
   "execution_count": null,
   "metadata": {},
   "outputs": [],
   "source": [
    "# Read in multi-column data from a CSV to array\n",
    "\n",
    "compton_data = pd.read_csv('compton.csv')\n",
    "\n",
    "# Let's have a look at the first few rows\n",
    "compton_data.head()"
   ]
  },
  {
   "cell_type": "markdown",
   "metadata": {},
   "source": [
    "## 2. A simple plot\n",
    "\n",
    "Let's start by making a simple plot of the `Calibration` value versus channel number (the `Channels` column). We'll use the **`plot()`** function from the **`matplotlib.pyplot`** module. The plot function accepts sequences of corresponding $x$ (`Channels`) and $y$ (`Calibration`) values as its arguments. \n",
    "\n",
    "We can complete the plot by adding axis labels and a title. We'll also pass the optional **`label`** argument to **`plot()`**, which will be used later to produce a figure legend.\n",
    "\n",
    "> It may seem strange to add the title and labels _after_ the call to **`plot()`** (instead of specifying them as additional arguments) but `matplotlib` applies any other instructions that we use to the last figure that was plotted.\n"
   ]
  },
  {
   "cell_type": "code",
   "execution_count": null,
   "metadata": {},
   "outputs": [],
   "source": [
    "# set the size of Matplotlib plots\n",
    "plt.rcParams['figure.figsize'] = [12, 7.5]\n",
    "\n",
    "plt.plot(compton_data['Channels'], compton_data['Calibration'], label = 'Calibration')\n",
    "plt.title('Compton Data')\n",
    "plt.legend(loc = 'upper left')\n",
    "plt.xlabel('Channel')\n",
    "plt.ylabel('Intensity')"
   ]
  },
  {
   "cell_type": "markdown",
   "metadata": {},
   "source": [
    "## 3. Making a plot with more than one line\n",
    "\n",
    "To plot a second curve on the same graph just call **`plot()`** again, passing the new data. We've added the optional **`color`** argument to the second call so that we can distinguish the two lines in the plot and the legend.\n",
    "\n",
    "> Note that the second call to **`plot()`** hasn't created a new set of axes. Instead `matplotlib` adds the line for the new data to the existing figure."
   ]
  },
  {
   "cell_type": "code",
   "execution_count": null,
   "metadata": {},
   "outputs": [],
   "source": [
    "plt.plot(compton_data['Channels'], compton_data['Calibration'], label = 'Calibration')\n",
    "plt.plot (compton_data['Channels'], compton_data['150'], label = 'Scattered at 150 degrees', color='red')\n",
    "plt.title('Compton Data')\n",
    "plt.legend(loc = 'upper left')\n",
    "plt.xlabel('Channel')\n",
    "plt.ylabel('Intensity')"
   ]
  },
  {
   "cell_type": "markdown",
   "metadata": {},
   "source": [
    "## 4. Annotations\n",
    "\n",
    "Before we move on, `matplotlib` provides plently of functions to make your plots more informative and easier to interpret. As an example, how about adding some annotations? See if you can work out how the example in the next cell adds arrows and labels to our plot.\n",
    "\n",
    "Finally, you can uncomment the first line below to produce a fun cartoonised plot!"
   ]
  },
  {
   "cell_type": "code",
   "execution_count": null,
   "metadata": {},
   "outputs": [],
   "source": [
    "# plt.xkcd() # For a bit of fun, uncomment this line!\n",
    "plt.plot(compton_data['Channels'], compton_data['Calibration'], label = 'Calibration')\n",
    "plt.plot (compton_data['Channels'], compton_data['150'], label = 'Scattered at 150 degrees', color='red')\n",
    "\n",
    "plt.title('Compton Data')\n",
    "plt.legend(loc = 'upper left')\n",
    "plt.xlabel('Channel')\n",
    "plt.ylabel('Intensity')\n",
    "\n",
    "# These lines add annotation arrows to mark the peaks\n",
    "plt.annotate(r\"$K \\alpha$\", xy = (324,1191), xytext = (450, 1190), arrowprops = dict(facecolor = 'green', width = 1, headwidth = 3, shrink = .05))\n",
    "plt.annotate(r\"$K \\beta$\", xy = (363,318), xytext = (450, 400), arrowprops = dict(facecolor = 'green', width = 1, headwidth = 3, shrink = .05))"
   ]
  },
  {
   "cell_type": "markdown",
   "metadata": {},
   "source": [
    "## 4. Further customisations\n",
    "\n",
    "Matplotlib and pyplot allow you to customise the figures you produce in many ways. You can change colours, choose different markers for your data points, use different line styles and much more. You can also produce a wide variety of plot types including scatter plots and polar projections. \n",
    "\n",
    "To find out more about the available options, the Matplotlib documentation is the best place to start.  The Matplotlib site (https://matplotlib.org) includes a useful tutorial on using `pyplot`:\n",
    "\n",
    "https://matplotlib.org/tutorials/introductory/pyplot.html\n"
   ]
  },
  {
   "cell_type": "markdown",
   "metadata": {},
   "source": [
    "## 4.1 Polar plots\n",
    "\n",
    "The code in the next cell shows how to use `matplotlib` to produce a polar plot. For those of you taking the ARROW project, this example will be useful when plotting the spiral arms of the Galaxy\n"
   ]
  },
  {
   "cell_type": "code",
   "execution_count": null,
   "metadata": {},
   "outputs": [],
   "source": [
    "#r = np.arange(0, 2, 0.01)\n",
    "#theta = 2 * np.pi * r\n",
    "\n",
    "theta = np.arange(0, 2*np.pi, 0.01)\n",
    "r = 2*theta\n",
    "\n",
    "plt.subplot(111, projection='polar')\n",
    "plt.plot(theta, r)\n",
    "# For 'yticks', read 'radial ticks'\n",
    "plt.yticks([2, 4, 8, 12])\n",
    "plt.grid(True)\n",
    "plt.title(\"A polar plot of a spiral\", va='bottom')\n",
    "plt.show()"
   ]
  },
  {
   "cell_type": "markdown",
   "metadata": {},
   "source": [
    "## 5. Multiple sub-plots\n",
    "\n",
    "Sometimes it makes sense to group several subplots together in the same figure. This example shows how to produce simple multiplots.\n",
    "\n",
    "To keep things simple, the example makes use of Matplotlib's implicit focus on the last object that was plotted. Every time we call the **`subplot()`** function we create a new a `matplotlib` `axes` object and define a new context for `matplotlib` to focus on. All of these `axes` objects are contained within another type of object - a `matplotlib` `figure`. Fine-grained control of subplot can be achieved by addressing the `figure` and `axes` objects directly. This is beyond the scope of this notebook but details can be found in the `matplotlib` documentation. A good place to start might be the Subplots demo:\n",
    "\n",
    "https://matplotlib.org/gallery/subplots_axes_and_figures/subplot_demo.html\n",
    "\n",
    "The main thing to notice for this example is the **`plt.subplot()`** function, which is often used with three arguments i.e. **`plt.subplot(nrows, ncols, index)`**. The first two arguments arguments specify that the enclosing `figure` is implicitly divided into a grid with **`nrows`** rows and **`ncols`** columns. The **`index`** argument defines which cell of the implicit grid corresponds to the location of the subplot we are defining. Positions are defined by an integer value starting with `1` in the top left corner and increasing to the right and downwards.\n",
    "\n",
    "You can see we've set the limits for the y axis to between 0 and 220 by using the line **`plt.ylim(0,220)`**. Otherwise the autoscalling would make all graphs look pretty similar.\n",
    "\n",
    "The **`plt.suptitle()`** function defines an overall title for the figure containing the subplots.\n",
    "\n",
    "Finally, the **`plt.tight_layout()`** function might be needed to adjust the positions of the various subplot elements slightly to avoid any overlaps and achieve a professional looking layout. \n"
   ]
  },
  {
   "cell_type": "code",
   "execution_count": null,
   "metadata": {},
   "outputs": [],
   "source": [
    "data_file = 'squares_2.csv'\n",
    "sq_data = pd.read_csv(data_file)\n",
    "\n",
    "x = sq_data['x_values']\n",
    "y = sq_data['y_values']\n",
    "y2 = y*1.5\n",
    "y3 = y*2\n",
    "\n",
    "plt.subplot(2,2,1, title='(a)')\n",
    "plt.plot(x,y, 'b--',label='Blue Dotted Line')\n",
    "plt.ylim(0,220)\n",
    "plt.ylabel('y = x')\n",
    "plt.grid()\n",
    "plt.legend()\n",
    "\n",
    "plt.subplot(2,2,2, title='(b)')\n",
    "plt.plot(x,y2, 'r^', label='Red Triangles')\n",
    "plt.xlabel('Some kind of x-axis values')\n",
    "plt.ylim(0,220)\n",
    "plt.ylabel('y = 1.5x')\n",
    "plt.grid()\n",
    "plt.legend()\n",
    "\n",
    "plt.subplot(2,2,3, title='(c)')\n",
    "plt.plot(x,y3, 'g+', label='Green Pluses')\n",
    "plt.xlabel('Some kind of x-axis values')\n",
    "plt.ylim(0,220)\n",
    "#plt.xlabel('title of the xlabel', fontweight='bold', color = 'orange', fontsize='17', horizontalalignment='center')\n",
    "plt.ylabel('y = 2x')\n",
    "plt.grid()\n",
    "plt.legend()\n",
    "\n",
    "plt.suptitle('3 sub-plots', size=20)\n",
    "#plt.tight_layout()"
   ]
  }
 ],
 "metadata": {
  "kernelspec": {
   "display_name": "Python 3",
   "language": "python",
   "name": "python3"
  },
  "language_info": {
   "codemirror_mode": {
    "name": "ipython",
    "version": 3
   },
   "file_extension": ".py",
   "mimetype": "text/x-python",
   "name": "python",
   "nbconvert_exporter": "python",
   "pygments_lexer": "ipython3",
   "version": "3.7.3"
  }
 },
 "nbformat": 4,
 "nbformat_minor": 4
}
