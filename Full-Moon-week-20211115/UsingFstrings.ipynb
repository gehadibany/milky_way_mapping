{
 "cells": [
  {
   "cell_type": "markdown",
   "metadata": {},
   "source": [
    "# F-strings - Formating Python output\n",
    "\n",
    "Version 0.3 Jun 2021\n",
    "\n",
    "It is often desirable to control the way in which the `print()` function displays output. For example we might wish to display a floating point number to a ceratin number of decimal places or significant figures. If we are printing a table, we might need to make sure that a word or number always takes up the same number of places.\n",
    "\n",
    "There are a number of ways this can be done (`.format()`, string class formating etc.) but here we will look exclusivly at _Formatted String Literals_ more commonly refered to as _f-strings_. This was introduced in Python 3.6 and provides a faster and neater way than all the previous systems. \n",
    "The official documentation anouncing this change can be found on the Python website:\n",
    "\n",
    "https://docs.python.org/3/whatsnew/3.6.html#whatsnew36-pep498 \n",
    "\n",
    "Once you've got to grips with the basics you might find this page entitled \"Format Specification Mini-Language\" useful:\n",
    "\n",
    "https://docs.python.org/3/library/string.html#formatspec.\n",
    "\n",
    "In the simplest form, you print a string, preceded with an `'f'` and  with embedded placeholders for formatted output delineated with curly braces. Something like:\n",
    "\n",
    "`print(f\"Hello {first_name}, I understand your family name is {fam_name}\")`\n",
    "\n",
    "The format of printed items can be controlled by means of additional formatting codes within the braces.\n",
    "\n",
    "As usual, we'll use a number of examples to demonstrate useful functionality and provide exercises for you to try as we go along.\n",
    "\n",
    "F-strings work just fine with plain Python, but we'll import NumPy here as we can use some of its functions in the demonstrations.\n",
    "\n"
   ]
  },
  {
   "cell_type": "code",
   "execution_count": null,
   "metadata": {},
   "outputs": [],
   "source": [
    "import numpy as np"
   ]
  },
  {
   "cell_type": "markdown",
   "metadata": {},
   "source": [
    "## 1. Simple string formating\n",
    "\n",
    "Starting with simple string formatting, we can tell Python how many spaces a given item of output should take up. For example, assuming we want a first name to take 10 characters and a last name to take 15 character.\n",
    "\n",
    "We do this by specifying (with curly braces) where the output is to appear in the string and then specifying some formatting instruction by using a colon after the variable or output followed by a _width specifier_. This is perhaps easier to see by example:\n"
   ]
  },
  {
   "cell_type": "code",
   "execution_count": null,
   "metadata": {},
   "outputs": [],
   "source": [
    "first_name = \"Zaphod\"\n",
    "last_name = \"Beeblebrox\"\n",
    "\n",
    "print(f\"Don't panic - {first_name:10} {last_name:15}!\")"
   ]
  },
  {
   "cell_type": "markdown",
   "metadata": {},
   "source": [
    "\n",
    "We can extend the formatting instruction in this case by adding a `'<'` to indicate that the output should be left justified, `'>'` that it should be right justified and `'^'` that it should be centred.\n",
    "\n",
    "Let's right justify the names:\n"
   ]
  },
  {
   "cell_type": "code",
   "execution_count": null,
   "metadata": {},
   "outputs": [],
   "source": [
    "print(f\"Don't panic - {first_name:>10} {last_name:>15}!\")"
   ]
  },
  {
   "cell_type": "raw",
   "metadata": {},
   "source": [
    "\n",
    "Or how about making both names centre justified?\n"
   ]
  },
  {
   "cell_type": "code",
   "execution_count": null,
   "metadata": {},
   "outputs": [],
   "source": [
    "print(f\"Don't panic - {first_name:^10} {last_name:^15}!\")"
   ]
  },
  {
   "cell_type": "markdown",
   "metadata": {},
   "source": [
    "Points to note here are that \n",
    "\n",
    "1. The item to be formatted is enclosed in curly braces `{ }` within the main print string. This  can be be a variable, an expression or the result of a function call.\n",
    "2. The format is specified after a `':'`. Here it is a character specifying justification (have a go with `'<'`, `'>'`, and `'^'`) followed by a length value.\n",
    "\n",
    "You might find this useful in formatting tables as we can see here:\n",
    "\n",
    "NOTE: this example uses the `zip()` function - in this case it just allows us to iterate through two lists at the same time.\n"
   ]
  },
  {
   "cell_type": "code",
   "execution_count": null,
   "metadata": {},
   "outputs": [],
   "source": [
    "fname = [\"zaphod\", \"joe\", \"mary\"]\n",
    "lname = [\"beeblebrox\", \"bloggs\", \"slartibartfast\"]\n",
    "\n",
    "for f,l in zip(fname, lname):\n",
    "    print(f\"|{f:>10}|{l:>15}|\")"
   ]
  },
  {
   "cell_type": "markdown",
   "metadata": {},
   "source": [
    "### Exercise 1.1\n",
    "\n",
    "Using these lists, how would you produce a list like you see in film credits where we have a right justified forename followed by a space followed by a left justified last name ? \n",
    "\n",
    "Use the names given above."
   ]
  },
  {
   "cell_type": "markdown",
   "metadata": {},
   "source": [
    "### 1.1 Printing special characters\n",
    "\n",
    "You need to be careful if your formatted string contains characters with special meanings, especially those used for defining strings such as quotes and curly braces.\n",
    "\n",
    "Some examples:"
   ]
  },
  {
   "cell_type": "code",
   "execution_count": null,
   "metadata": {},
   "outputs": [],
   "source": [
    "# If your string contains single quotes, enclose it in double quotes\n",
    "print(f\"Don't panic {'John'}\")\n",
    "\n",
    "# And enclose double quotes in single quotes\n",
    "print(f'Don\"t panic {\"John\"}')\n",
    "\n",
    "# Curly braces - enclose these within an extra set of curly braces\n",
    "print(f\"These are curly braces {{}}\")     "
   ]
  },
  {
   "cell_type": "markdown",
   "metadata": {},
   "source": [
    "### 1.2 Formatting date output\n",
    "\n",
    "Dates in Python are held in an internal format. You can use f-strings to format these dates in a number of useful ways:"
   ]
  },
  {
   "cell_type": "code",
   "execution_count": null,
   "metadata": {},
   "outputs": [],
   "source": [
    "import datetime as dt\n",
    "today = dt.datetime.today()\n",
    "\n",
    "print(today)\n",
    "print(f\"{today:%d/%m/%Y}\")\n",
    "print(f\"Today is {today:%A, %B %d, %Y}\")"
   ]
  },
  {
   "cell_type": "markdown",
   "metadata": {},
   "source": [
    "## 2. Aligning numeric output using width and precision\n",
    "\n",
    "You can extend this sort of formatting to numerical results. here we look at formatting using a _width_ and a _precision_ parameter. Width is the total number of characters to print (including the decimal and left padded with spaces) and the precision is, effectively, the number of significant figures.\n",
    "\n",
    "By example:\n"
   ]
  },
  {
   "cell_type": "code",
   "execution_count": null,
   "metadata": {},
   "outputs": [],
   "source": [
    "n = 12.3456789\n",
    "print(f\"{n} printed with a field length of 10 and a precision of 4 is |{n:10.4}|\")\n",
    "\n",
    "# And we can add padding characters\n",
    "print(f\"{n} printed with zero padding |{n:010.4}|\")\n"
   ]
  },
  {
   "cell_type": "markdown",
   "metadata": {},
   "source": [
    "\n",
    "## 3. Formatting integers - and introducing numeric type specifiers\n",
    "\n",
    "You can, additionally, indicate what numeric type you want - binary, hex etc.\n",
    "\n",
    "By example:\n"
   ]
  },
  {
   "cell_type": "code",
   "execution_count": null,
   "metadata": {},
   "outputs": [],
   "source": [
    "n1 = 3423\n",
    "\n",
    "print (f\"{n1} in binary is: {n1:b}\")\n",
    "print (f\"{n1} in octal is: {n1:o}\")\n",
    "print (f\"{n1} in hex is: {n1:x}\")\n",
    "print (f\"{n1} in hex, with visible identifier, is: {n1:#x}\")\n",
    "\n",
    "print (f\"{n1} with commas: {n1:,}\")\n",
    "print (f\"{n1} with fixed width and zero padding: {n1:010}\")\n",
    "print (f\"{n1} in hex, with identifier, fixed width and padding is: {n1:#08x}\")\n"
   ]
  },
  {
   "cell_type": "markdown",
   "metadata": {},
   "source": [
    "### Exercise 3.1\n",
    "\n",
    "Print out the first 20 numbers, formatted as binary and to a width of 5 characters\n"
   ]
  },
  {
   "cell_type": "markdown",
   "metadata": {},
   "source": [
    "## 4. Formatting floating point numbers\n",
    "\n",
    "We can extend the width.precision formatting of floating point numbers with specific floating point presentation specifiers `'f'` `'e'` and `'g'`.\n",
    "\n",
    "* **f** is the normal fixed point presentation. It has a default precision of 6\n",
    "* **e** gives a scientific notation - once again with a default precision of 6\n",
    "* **g** is the general format that for precision >= 1, rounds the number to the specified number of significant digits. Be aware that it may present the result as in scientific format\n",
    "\n",
    "By example:\n"
   ]
  },
  {
   "cell_type": "code",
   "execution_count": null,
   "metadata": {},
   "outputs": [],
   "source": [
    "f1 = 1234.56789\n",
    "\n",
    "# Changing presentation format\n",
    "print (f\"{f1} as a floating point: {f1:f}\")\n",
    "print (f\"{f1} in scientific notation: {f1:e}\")\n",
    "# Adding precision parameters\n",
    "print (f\"{f1} as a floating point to 3 d.p. : {f1:.3f}\")\n",
    "print (f\"{f1} in scientific notation with precision of 2: {f1:.2e}\")\n",
    "print (f\"{f1} as a floating point to 5 significant figures. : {f1:.5g}\")\n"
   ]
  },
  {
   "cell_type": "markdown",
   "metadata": {},
   "source": [
    "\n",
    "You can of course also use width with precision and presentation specifiers - quite good for tables where the decimal point should be aligned:\n",
    "    "
   ]
  },
  {
   "cell_type": "code",
   "execution_count": null,
   "metadata": {},
   "outputs": [],
   "source": [
    "numbs = [0.2366, 12.5, 1000., 1.2]\n",
    "\n",
    "for x in numbs:\n",
    "    print(f\"|{x:10.2f}|\")"
   ]
  },
  {
   "cell_type": "markdown",
   "metadata": {},
   "source": [
    "### Exercise 4.1\n",
    "\n",
    "Loop through values of $i$ from 0 to 9. Print out the value of $\\pi \\times i^2$, all formatted to 5 decimal places and with the decimal points aligned. "
   ]
  },
  {
   "cell_type": "markdown",
   "metadata": {},
   "source": [
    "# Solutions to exercises"
   ]
  },
  {
   "cell_type": "markdown",
   "metadata": {},
   "source": [
    "### Exercise 1.1"
   ]
  },
  {
   "cell_type": "code",
   "execution_count": null,
   "metadata": {},
   "outputs": [],
   "source": [
    "fname = [\"zaphod\", \"joe\", \"mary\"]\n",
    "lname = [\"Beeblebrox\", \"bloggs\", \"slartibartfast\"]\n",
    "\n",
    "for f,l in zip(fname, lname):\n",
    "    print(f\"{f:>10} {l:<15}\")"
   ]
  },
  {
   "cell_type": "markdown",
   "metadata": {},
   "source": [
    "### Exercise 3.1"
   ]
  },
  {
   "cell_type": "code",
   "execution_count": null,
   "metadata": {},
   "outputs": [],
   "source": [
    "for n in range(20):\n",
    "    print(f\"{n:05b}\")"
   ]
  },
  {
   "cell_type": "markdown",
   "metadata": {},
   "source": [
    "### Exercise 4.1"
   ]
  },
  {
   "cell_type": "code",
   "execution_count": null,
   "metadata": {},
   "outputs": [],
   "source": [
    "for i in range(10):\n",
    "    print(f\"{i*i*np.pi:10.5f}\")"
   ]
  }
 ],
 "metadata": {
  "kernelspec": {
   "display_name": "Python 3",
   "language": "python",
   "name": "python3"
  },
  "language_info": {
   "codemirror_mode": {
    "name": "ipython",
    "version": 3
   },
   "file_extension": ".py",
   "mimetype": "text/x-python",
   "name": "python",
   "nbconvert_exporter": "python",
   "pygments_lexer": "ipython3",
   "version": "3.7.3"
  }
 },
 "nbformat": 4,
 "nbformat_minor": 2
}
